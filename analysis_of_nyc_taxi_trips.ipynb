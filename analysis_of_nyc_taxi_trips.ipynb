{
  "nbformat": 4,
  "nbformat_minor": 0,
  "metadata": {
    "colab": {
      "provenance": []
    },
    "kernelspec": {
      "name": "python3",
      "display_name": "Python 3"
    },
    "language_info": {
      "name": "python"
    }
  },
  "cells": [
    {
      "cell_type": "code",
      "execution_count": 1,
      "metadata": {
        "id": "zHS8cCsEyLkx"
      },
      "outputs": [],
      "source": [
        "# Import required libraries\n",
        "from pyspark.sql import SparkSession\n",
        "from pyspark.sql.functions import col, unix_timestamp, avg, count, max, min, round\n",
        "import pandas as pd\n",
        "import matplotlib.pyplot as plt"
      ]
    },
    {
      "cell_type": "code",
      "source": [
        "# Initialize Spark session\n",
        "spark = SparkSession.builder \\\n",
        "    .appName(\"Big Data Analysis\") \\\n",
        "    .getOrCreate()"
      ],
      "metadata": {
        "id": "PTFoHxtTyspw"
      },
      "execution_count": 2,
      "outputs": []
    },
    {
      "cell_type": "code",
      "source": [
        "# Load dataset\n",
        "filepath = \"synthetic_nyc_taxi_data.csv\"\n",
        "df = spark.read.csv(filepath, header=True, inferSchema=True)"
      ],
      "metadata": {
        "id": "yXctL_0Zy0Yf"
      },
      "execution_count": 3,
      "outputs": []
    },
    {
      "cell_type": "code",
      "source": [
        "# Inspect dataset structure\n",
        "df.printSchema()"
      ],
      "metadata": {
        "colab": {
          "base_uri": "https://localhost:8080/"
        },
        "id": "bLr6E1ZLzPqP",
        "outputId": "e24728e2-dfbb-483e-b608-67b7477ae906"
      },
      "execution_count": 4,
      "outputs": [
        {
          "output_type": "stream",
          "name": "stdout",
          "text": [
            "root\n",
            " |-- pickup_datetime: string (nullable = true)\n",
            " |-- dropoff_datetime: string (nullable = true)\n",
            " |-- pickup_location_id: string (nullable = true)\n",
            " |-- dropoff_location_id: string (nullable = true)\n",
            " |-- passenger_count: integer (nullable = true)\n",
            " |-- trip_distance: double (nullable = true)\n",
            " |-- fare_amount: double (nullable = true)\n",
            "\n"
          ]
        }
      ]
    },
    {
      "cell_type": "markdown",
      "source": [
        "# ***`Data Cleaning`***"
      ],
      "metadata": {
        "id": "59IBGaxk84bC"
      }
    },
    {
      "cell_type": "code",
      "source": [
        "# Drop rows with null values\n",
        "df_cleaned = df.dropna()"
      ],
      "metadata": {
        "id": "IhOS-7zFzbQP"
      },
      "execution_count": 5,
      "outputs": []
    },
    {
      "cell_type": "markdown",
      "source": [
        "# ***`Data Transformation`***"
      ],
      "metadata": {
        "id": "_nJOsYzX9D2M"
      }
    },
    {
      "cell_type": "code",
      "source": [
        "# Add trip duration column (in minutes)\n",
        "df_transformed = df_cleaned.withColumn(\n",
        "    \"trip_duration\",\n",
        "    (unix_timestamp(col(\"dropoff_datetime\")) - unix_timestamp(col(\"pickup_datetime\"))) / 60\n",
        ")"
      ],
      "metadata": {
        "id": "6suslvP4ziIk"
      },
      "execution_count": 6,
      "outputs": []
    },
    {
      "cell_type": "markdown",
      "source": [
        "# ***`Exploratory Analysis`***"
      ],
      "metadata": {
        "id": "H5HRd_tl9K-F"
      }
    },
    {
      "cell_type": "code",
      "source": [
        "# Total number of trips\n",
        "total_trips = df_transformed.count()"
      ],
      "metadata": {
        "id": "8WP--BdEzqZW"
      },
      "execution_count": 7,
      "outputs": []
    },
    {
      "cell_type": "code",
      "source": [
        "# Top 5 pickup locations by trip count\n",
        "top_pickup_locations = df_transformed.groupBy(\"pickup_location_id\") \\\n",
        "    .count() \\\n",
        "    .orderBy(col(\"count\").desc()) \\\n",
        "    .limit(5) \\\n",
        "    .collect()"
      ],
      "metadata": {
        "id": "IPmLEECdz47v"
      },
      "execution_count": 8,
      "outputs": []
    },
    {
      "cell_type": "code",
      "source": [
        "# Convert top pickup locations to pandas for visualization\n",
        "top_pickup_df = pd.DataFrame(\n",
        "    [(row['pickup_location_id'], row['count']) for row in top_pickup_locations],\n",
        "    columns=['Pickup Location', 'Trip Count']\n",
        ")"
      ],
      "metadata": {
        "id": "O6VE_Z0v2KPn"
      },
      "execution_count": 9,
      "outputs": []
    },
    {
      "cell_type": "code",
      "source": [
        "# Longest trip details\n",
        "longest_trip = df_transformed.orderBy(col(\"trip_duration\").desc()).first()"
      ],
      "metadata": {
        "id": "Eam1-OlP0BGN"
      },
      "execution_count": 11,
      "outputs": []
    },
    {
      "cell_type": "code",
      "source": [
        "# Average trip duration\n",
        "avg_trip_duration = df_transformed.select(avg(\"trip_duration\")).first()[0]\n",
        "\n",
        "# Check if avg_trip_duration is None and handle it\n",
        "if avg_trip_duration is None:\n",
        "    print(\"Average trip duration could not be calculated (likely due to missing data).\")\n",
        "    avg_trip_duration = 0  # Or any other suitable default value\n",
        "else:\n",
        "    print(f\"Average Trip Duration: {avg_trip_duration:.2f} minutes\")"
      ],
      "metadata": {
        "colab": {
          "base_uri": "https://localhost:8080/"
        },
        "id": "E13rEhS10kRA",
        "outputId": "83a0af4b-0b3e-4e51-b819-f90a9158899b"
      },
      "execution_count": 12,
      "outputs": [
        {
          "output_type": "stream",
          "name": "stdout",
          "text": [
            "Average trip duration could not be calculated (likely due to missing data).\n"
          ]
        }
      ]
    },
    {
      "cell_type": "markdown",
      "source": [
        "# ***`Visualization`***"
      ],
      "metadata": {
        "id": "XckBKohq9jIk"
      }
    },
    {
      "cell_type": "code",
      "source": [
        "# Plot top pickup locations\n",
        "plt.figure(figsize=(10, 6))\n",
        "plt.bar(top_pickup_df['Pickup Location'], top_pickup_df['Trip Count'], color='skyblue')\n",
        "plt.title('Top 5 Pickup Locations by Trip Count', fontsize=16)\n",
        "plt.xlabel('Pickup Location', fontsize=12)\n",
        "plt.ylabel('Trip Count', fontsize=12)\n",
        "plt.xticks(rotation=45)\n",
        "plt.tight_layout()\n",
        "plt.savefig(\"top_pickup_locations.png\")\n",
        "plt.show()"
      ],
      "metadata": {
        "colab": {
          "base_uri": "https://localhost:8080/",
          "height": 574
        },
        "id": "GnSh3mxU2lRx",
        "outputId": "55553de5-0991-4516-8d43-d73e0e39bd9b"
      },
      "execution_count": 10,
      "outputs": [
        {
          "output_type": "display_data",
          "data": {
            "text/plain": [
              "<Figure size 1000x600 with 1 Axes>"
            ],
            "image/png": "[encoded data removed]"
          },
          "metadata": {}
        }
      ]
    },
    {
      "cell_type": "code",
      "source": [
        "# Results\n",
        "print(f\"Total Trips: {total_trips}\")\n",
        "print(f\"Average Trip Duration: {avg_trip_duration:.2f} minutes\")\n",
        "print(\"Top 5 Pickup Locations by Trip Count:\")\n",
        "for row in top_pickup_locations:\n",
        "    print(f\"Location: {row['pickup_location_id']}, Trips: {row['count']}\")\n",
        "print(\"Longest Trip Details:\")\n",
        "print(longest_trip)"
      ],
      "metadata": {
        "colab": {
          "base_uri": "https://localhost:8080/"
        },
        "id": "e4an144y0JrC",
        "outputId": "93e54302-2e62-477f-fd50-e8321d2a3ba6"
      },
      "execution_count": 13,
      "outputs": [
        {
          "output_type": "stream",
          "name": "stdout",
          "text": [
            "Total Trips: 1000000\n",
            "Average Trip Duration: 0.00 minutes\n",
            "Top 5 Pickup Locations by Trip Count:\n",
            "Location: Location_18, Trips: 10319\n",
            "Location: Location_73, Trips: 10275\n",
            "Location: Location_51, Trips: 10227\n",
            "Location: Location_16, Trips: 10197\n",
            "Location: Location_33, Trips: 10147\n",
            "Longest Trip Details:\n",
            "Row(pickup_datetime='07-01-2023 00:50', dropoff_datetime='07-01-2023 01:27', pickup_location_id='Location_77', dropoff_location_id='Location_7', passenger_count=5, trip_distance=23.941360747807792, fare_amount=192.17469601347864, trip_duration=None)\n"
          ]
        }
      ]
    }
  ]
}